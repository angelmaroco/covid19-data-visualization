{
 "cells": [
  {
   "cell_type": "code",
   "execution_count": null,
   "metadata": {
    "slideshow": {
     "slide_type": "notes"
    }
   },
   "outputs": [],
   "source": [
    "import plotly.graph_objects as go\n",
    "import plotly.figure_factory as ff\n",
    "import plotly.express as px\n",
    "import chart_studio.plotly as py\n",
    "import pandas as pd\n",
    "\n",
    "NUM_RESULTS_DATASET = 10\n",
    "NUM_RESULTS_PREVIEW = 3\n",
    "PATH_DATA_STATISTICS = f\"./data/input/statistics\""
   ]
  },
  {
   "cell_type": "markdown",
   "metadata": {},
   "source": [
    "### Loading data sources"
   ]
  },
  {
   "cell_type": "code",
   "execution_count": null,
   "metadata": {},
   "outputs": [],
   "source": [
    "data = pd.read_csv(f\"{PATH_DATA_STATISTICS}/all_stats_madrid.csv\", engine=\"c\")\n",
    "mortality_rate = pd.read_csv(f\"{PATH_DATA_STATISTICS}/mortality_rate_spain.csv\", engine=\"c\")\n",
    "data_people = pd.read_csv(f\"{PATH_DATA_STATISTICS}/people_data.csv\", engine=\"c\")"
   ]
  },
  {
   "cell_type": "code",
   "execution_count": null,
   "metadata": {},
   "outputs": [],
   "source": [
    "data.head(NUM_RESULTS_PREVIEW)"
   ]
  },
  {
   "cell_type": "code",
   "execution_count": null,
   "metadata": {},
   "outputs": [],
   "source": [
    "mortality_rate.head(NUM_RESULTS_PREVIEW)"
   ]
  },
  {
   "cell_type": "code",
   "execution_count": null,
   "metadata": {},
   "outputs": [],
   "source": [
    "data_people.tail(NUM_RESULTS_PREVIEW)\n",
    "print(len(data_people))"
   ]
  },
  {
   "cell_type": "markdown",
   "metadata": {},
   "source": [
    "### Aggregationn by age and state"
   ]
  },
  {
   "cell_type": "code",
   "execution_count": null,
   "metadata": {},
   "outputs": [],
   "source": [
    "data_infected = data.groupby(['date'])['Infected'].sum().reset_index()\n",
    "data_negative = data.groupby(['date'])['Negative'].sum().reset_index()\n",
    "data_suspected = data.groupby(['date'])['Suspected'].sum().reset_index()\n",
    "data_recovered = data.groupby(['date'])['Recovered'].sum().reset_index()\n",
    "data_total = data.groupby(['date'])['state'].sum().reset_index()\n",
    "\n",
    "fig = go.Figure(\n",
    "    layout=go.Layout(\n",
    "        title=\"Evolución todas las poblaciones\",\n",
    "        yaxis_title=\"Número de casos\",\n",
    "        xaxis_title=\"Fecha\",\n",
    "        xaxis_autorange=True\n",
    "    )\n",
    ")\n",
    "\n",
    "fig.add_trace(go.Scatter(x=data_infected['date'], y=data_infected['Infected'],\n",
    "                    mode='lines',\n",
    "                    name='Infected'))\n",
    "\n",
    "fig.add_trace(go.Scatter(x=data_negative['date'], y=data_negative['Negative'],\n",
    "                    mode='lines',\n",
    "                    name='Negative'))\n",
    "\n",
    "fig.add_trace(go.Scatter(x=data_suspected['date'], y=data_suspected['Suspected'],\n",
    "                    mode='lines',\n",
    "                    name='Suspected'))\n",
    "\n",
    "fig.add_trace(go.Scatter(x=data_recovered['date'], y=data_recovered['Recovered'],\n",
    "                    mode='lines',\n",
    "                    name='Recovered'))\n",
    "\n",
    "fig.add_trace(go.Scatter(x=data_total['date'], y=data_total['state'],\n",
    "                    mode='markers',\n",
    "                    name='Total'))\n",
    "\n",
    "\n",
    "fig.show()"
   ]
  },
  {
   "cell_type": "code",
   "execution_count": null,
   "metadata": {},
   "outputs": [],
   "source": [
    "data_location = data.sort_values(by=['Infected','Suspected'], ascending=False).head(NUM_RESULTS_DATASET)\n",
    "location = data_location['location']\n",
    "infected = data_location['Infected']\n",
    "suspected = data_location['Suspected']\n",
    "\n",
    "fig = go.Figure(\n",
    "    data=[\n",
    "        go.Bar(\n",
    "            x=location, \n",
    "            y=infected, \n",
    "            text=infected, \n",
    "            textposition='auto', \n",
    "            name='Infectados', \n",
    "            marker_color='rgba(254, 204, 204, 0.95)'\n",
    "        ),\n",
    "        go.Bar(\n",
    "            x=location,\n",
    "            y=suspected,\n",
    "            text=suspected,\n",
    "            textposition='auto',\n",
    "            name='Sospechosos',\n",
    "            marker_color='rgb(179, 224, 255)'\n",
    "        ), \n",
    "    ],\n",
    "    layout=go.Layout(\n",
    "        title=f\"Top {NUM_RESULTS_DATASET} poblaciones por número de infectados + sospechosos\",\n",
    "        xaxis_title=\"Población\",\n",
    "        yaxis_title=\"Número de infectados/sospechosos\",\n",
    "        barmode='stack'\n",
    "    ))\n",
    "\n",
    "fig.show()"
   ]
  },
  {
   "cell_type": "code",
   "execution_count": null,
   "metadata": {},
   "outputs": [],
   "source": [
    "data_infected = data.sort_values(by='Infected', ascending=False).head(NUM_RESULTS_DATASET)\n",
    "location = data_infected['location']\n",
    "percent_total_range_60 = data_infected['% Total range 60']\n",
    "percent_total_range_70 = data_infected['% Total range 70']\n",
    "percent_total_range_80 = data_infected['% Total range 80']\n",
    "\n",
    "fig = go.Figure(\n",
    "    layout=go.Layout(\n",
    "        title=f\"Top {NUM_RESULTS_DATASET} población de infectados por rango de edad\",\n",
    "        yaxis_title=\"Porcentaje de infectados\"\n",
    "    ))\n",
    "\n",
    "fig.add_trace(go.Scatter(\n",
    "    x=location,\n",
    "    y=percent_total_range_60,\n",
    "    name='% Total de pobl. infectada rango 60 años',\n",
    "    marker=dict(\n",
    "        color='rgba(156, 165, 196, 0.95)',\n",
    "        line_color='rgba(156, 165, 196, 1.0)',\n",
    "    )\n",
    "))\n",
    "\n",
    "fig.add_trace(go.Scatter(\n",
    "    x=location,\n",
    "    y=percent_total_range_70,\n",
    "    name='% Total de pobl. infectada rango 70 años',\n",
    "    marker=dict(\n",
    "        color='rgb(179, 224, 255)',\n",
    "        line_color='rgba(217, 217, 217, 1.0)'\n",
    "    )\n",
    "))\n",
    "\n",
    "fig.add_trace(go.Scatter(\n",
    "    x=location,\n",
    "    y=percent_total_range_80,\n",
    "    name='% Total de pobl. infectada mayor de 80 años',\n",
    "    marker=dict(\n",
    "        color='rgba(254, 204, 204, 0.95)',\n",
    "        line_color='rgb(255, 51, 0)'\n",
    "    )\n",
    "))\n",
    "\n",
    "fig.update_traces(mode='markers', marker=dict(line_width=1, symbol='circle', size=12))\n",
    "\n",
    "fig.show()"
   ]
  },
  {
   "cell_type": "code",
   "execution_count": null,
   "metadata": {},
   "outputs": [],
   "source": [
    "data_infected = data.sort_values(by='Infected', ascending=False).head(NUM_RESULTS_DATASET)\n",
    "location = data_infected['location']\n",
    "percent_susceptible_range_60 = data_infected['Susceptible death 60/69 age']\n",
    "percent_susceptible_range_70 = data_infected['Susceptible death 70/79 age']\n",
    "percent_susceptible_range_80 = data_infected['Susceptible death 80 or more age']\n",
    "\n",
    "fig = go.Figure(\n",
    "    layout=go.Layout(\n",
    "        title=f\"Top {NUM_RESULTS_DATASET} población de infectados susceptibles fallecer por rango de edad\",\n",
    "        yaxis_title=\"Porcentaje de infectados\"\n",
    "    ))\n",
    "\n",
    "fig.add_trace(go.Scatter(\n",
    "    x=location,\n",
    "    y=percent_susceptible_range_60,\n",
    "    name='% Total pobl. susceptible fallecer range 60 años',\n",
    "    marker=dict(\n",
    "        color='rgba(156, 165, 196, 0.95)',\n",
    "        line_color='rgba(156, 165, 196, 1.0)',\n",
    "    )\n",
    "))\n",
    "\n",
    "fig.add_trace(go.Scatter(\n",
    "    x=location,\n",
    "    y=percent_total_range_70,\n",
    "    name='% Total de pobl. infectada rango 70 años',\n",
    "    marker=dict(\n",
    "        color='rgb(179, 224, 255)',\n",
    "        line_color='rgba(217, 217, 217, 1.0)'\n",
    "    )\n",
    "))\n",
    "\n",
    "fig.add_trace(go.Scatter(\n",
    "    x=location,\n",
    "    y=percent_total_range_80,\n",
    "    name='% Total de pobl. infectada mayor de 80 años',\n",
    "    marker=dict(\n",
    "        color='rgba(254, 204, 204, 0.95)',\n",
    "        line_color='rgb(255, 51, 0)'\n",
    "    )\n",
    "))\n",
    "\n",
    "fig.update_traces(mode='markers', marker=dict(line_width=1, symbol='circle', size=12))\n",
    "\n",
    "fig.show()"
   ]
  },
  {
   "cell_type": "code",
   "execution_count": null,
   "metadata": {},
   "outputs": [],
   "source": [
    "data_temp = (\n",
    "    data_people.query(\"state == 'infected'\")\n",
    "    .groupby(\"location\")[\"age\"]\n",
    "    .count()\n",
    "    .reset_index()\n",
    "    .sort_values(by=\"age\", ascending=False)\n",
    "    .head(NUM_RESULTS_DATASET)\n",
    ")\n",
    "\n",
    "data_people_join = pd.merge(data_temp, data_people, on=\"location\", how=\"inner\")\n",
    "\n",
    "fig = px.box(\n",
    "    data_people_join[[\"location\", \"age_y\"]],\n",
    "    x=\"location\",\n",
    "    y=\"age_y\",\n",
    "    points=\"all\",\n",
    "    notched=True,\n",
    ")\n",
    "\n",
    "fig.update_layout(\n",
    "    title=\"Top 10 poblaciones por número de infectados y distribuidas por edad\",\n",
    "    yaxis=dict(\n",
    "        autorange=True,\n",
    "        showgrid=True,\n",
    "        zeroline=True,\n",
    "        dtick=5,\n",
    "        gridcolor=\"rgb(255, 255, 255)\",\n",
    "        gridwidth=1,\n",
    "        zerolinecolor=\"rgb(255, 255, 255)\",\n",
    "        zerolinewidth=2,\n",
    "    ),\n",
    "    showlegend=True,\n",
    ")\n",
    "\n",
    "fig.show()"
   ]
  },
  {
   "cell_type": "code",
   "execution_count": null,
   "metadata": {},
   "outputs": [],
   "source": [
    "data_temp = data_people.query(\"state == 'infected'\").groupby(\"location\")[\"state\"].count().reset_index().sort_values(by='state', ascending=False).head(10)\n",
    "\n",
    "data_population_join = pd.merge(data_temp, data, on='location', how='inner')\n",
    "\n",
    "fig = px.scatter_matrix(data_population_join,\n",
    "    dimensions=['Susceptible death 60/69 age', 'Susceptible death 70/79 age','Susceptible death 80 or more age'],\n",
    "    color=\"location\")\n",
    "fig.update_traces(diagonal_visible=False)\n",
    "\n",
    "    \n",
    "fig.show()"
   ]
  },
  {
   "cell_type": "code",
   "execution_count": null,
   "metadata": {},
   "outputs": [],
   "source": []
  }
 ],
 "metadata": {
  "kernelspec": {
   "display_name": "Python 3",
   "language": "python",
   "name": "python3"
  },
  "language_info": {
   "codemirror_mode": {
    "name": "ipython",
    "version": 3
   },
   "file_extension": ".py",
   "mimetype": "text/x-python",
   "name": "python",
   "nbconvert_exporter": "python",
   "pygments_lexer": "ipython3",
   "version": "3.7.5"
  },
  "widgets": {
   "application/vnd.jupyter.widget-state+json": {
    "state": {},
    "version_major": 2,
    "version_minor": 0
   }
  }
 },
 "nbformat": 4,
 "nbformat_minor": 4
}
