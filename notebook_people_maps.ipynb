{
 "cells": [
  {
   "cell_type": "code",
   "execution_count": null,
   "metadata": {},
   "outputs": [],
   "source": [
    "from src import tools_osm\n",
    "from src import tools_plots\n",
    "import pandas as pd\n",
    "\n",
    "NUM_RESULTS_PREVIEW = 3\n",
    "PATH_DATA_STATISTICS = f\"./data/input/statistics\""
   ]
  },
  {
   "cell_type": "markdown",
   "metadata": {},
   "source": [
    "---\n",
    "## Loading data sources\n",
    "\n",
    "### People dataset\n",
    "People geolocation (id, latitude, longitude, population, state, age and date of sample)"
   ]
  },
  {
   "cell_type": "code",
   "execution_count": null,
   "metadata": {},
   "outputs": [],
   "source": [
    "data_people = pd.read_csv(\n",
    "    f\"{PATH_DATA_STATISTICS}/people_data.csv\", \n",
    "    low_memory=False,\n",
    "    engine=\"c\"\n",
    ")\n",
    "\n",
    "data_people = data_people.set_index('date')\n",
    "data_people['date'] = data_people.index\n",
    "\n",
    "data_people.head(NUM_RESULTS_PREVIEW)"
   ]
  },
  {
   "cell_type": "markdown",
   "metadata": {},
   "source": [
    "### Loading map with edge point by population\n",
    "\n",
    "Build GeoDataFrame with edge point map by population (Comunidad de Madrid). These points will be those used in OpenStreetMap for the visualization of edge."
   ]
  },
  {
   "cell_type": "code",
   "execution_count": null,
   "metadata": {},
   "outputs": [],
   "source": [
    "gdf_geojson = tools_osm.build_geojson_population()\n",
    "gdf_geojson.head(NUM_RESULTS_PREVIEW)"
   ]
  },
  {
   "cell_type": "markdown",
   "metadata": {},
   "source": [
    "---\n",
    "\n",
    "## Building OpenStreetMaps maps"
   ]
  },
  {
   "cell_type": "markdown",
   "metadata": {},
   "source": [
    "* ### Getting first and last date loaded"
   ]
  },
  {
   "cell_type": "code",
   "execution_count": null,
   "metadata": {},
   "outputs": [],
   "source": [
    "last_date = data_people['date'].max()\n",
    "first_date = data_people['date'].min()\n",
    "first_date,last_date \n",
    "data_people['date'].count()\n",
    "\n",
    "\n",
    "data_people.query(f\"location == 'Madrid, Madrid' and date == '{last_date}'\")[\"location\"].count()\n",
    "print(first_date,last_date)"
   ]
  },
  {
   "cell_type": "markdown",
   "metadata": {},
   "source": [
    "* ### Map with negative, suspected and positive, applying filter by population (Villaviciosa de Odón)"
   ]
  },
  {
   "cell_type": "code",
   "execution_count": null,
   "metadata": {},
   "outputs": [],
   "source": [
    "map_filter_population_madrid = tools_plots.build_map_cluster(\n",
    "    'Casos Villaviciosa de Odon', \n",
    "    data_people.query(f\"location == 'Villaviciosa de Odón, Madrid' and state == 'suspected' and date == '{last_date}'\"),\n",
    "    gdf_geojson\n",
    ")"
   ]
  },
  {
   "cell_type": "code",
   "execution_count": null,
   "metadata": {},
   "outputs": [],
   "source": [
    "map_filter_population_madrid"
   ]
  },
  {
   "cell_type": "markdown",
   "metadata": {},
   "source": [
    "* ### Map with negative people, applying filter by population (Moralzarzal)"
   ]
  },
  {
   "cell_type": "code",
   "execution_count": null,
   "metadata": {},
   "outputs": [],
   "source": [
    "map_filter_population = tools_plots.build_map_cluster(\n",
    "    'Casos sospechosos en Moralzarzal', \n",
    "    data_people.query(f\"location == 'Moralzarzal, Madrid' and state == 'negative'  and date == '{first_date}'\"),\n",
    "    gdf_geojson\n",
    ")"
   ]
  },
  {
   "cell_type": "code",
   "execution_count": null,
   "metadata": {},
   "outputs": [],
   "source": [
    "map_filter_population"
   ]
  },
  {
   "cell_type": "markdown",
   "metadata": {},
   "source": [
    "* ### Map with positive people - Comunidad de Madrid:"
   ]
  },
  {
   "cell_type": "code",
   "execution_count": null,
   "metadata": {},
   "outputs": [],
   "source": [
    "map_filter_infected_madrid = tools_plots.build_map_cluster(\n",
    "    'Infectados en Comunidad de Madrid', \n",
    "    data_people.query(f\"state == 'infected' and date == '{last_date}'\"), \n",
    "    gdf_geojson\n",
    ")"
   ]
  },
  {
   "cell_type": "code",
   "execution_count": null,
   "metadata": {},
   "outputs": [],
   "source": [
    "map_filter_infected_madrid"
   ]
  },
  {
   "cell_type": "markdown",
   "metadata": {},
   "source": [
    "* ### Map with positive people into Comunidad de Madrid, applying filter by range age (60/69)"
   ]
  },
  {
   "cell_type": "code",
   "execution_count": null,
   "metadata": {},
   "outputs": [],
   "source": [
    "map_range_60 = tools_plots.build_map_cluster(\n",
    "    'Infectados en rango 60/69', \n",
    "    data_people.query(f\"(age >= 60 and age <= 89) and state == 'infected' and date == '{first_date}'\"), \n",
    "    gdf_geojson\n",
    ")"
   ]
  },
  {
   "cell_type": "code",
   "execution_count": null,
   "metadata": {},
   "outputs": [],
   "source": [
    "map_range_60"
   ]
  },
  {
   "cell_type": "markdown",
   "metadata": {},
   "source": [
    "* ### Mapa de casos sospechosos, menores de 60 años en Madrid capital\n",
    "Map with suspected people, applying filter under 60 years into Madrid (city)"
   ]
  },
  {
   "cell_type": "code",
   "execution_count": null,
   "metadata": {},
   "outputs": [],
   "source": [
    "map_range_le_60_madrid = tools_plots.build_map_cluster(\n",
    "    'Menores de 60 positivos Madrid', \n",
    "    data_people.query(f\"age < 60 and state =='suspected' and location == 'Madrid, Madrid' and date == '{first_date}'\"), \n",
    "    gdf_geojson\n",
    ")"
   ]
  },
  {
   "cell_type": "code",
   "execution_count": null,
   "metadata": {},
   "outputs": [],
   "source": [
    "map_range_le_60_madrid"
   ]
  }
 ],
 "metadata": {
  "kernelspec": {
   "display_name": "Python 3",
   "language": "python",
   "name": "python3"
  },
  "language_info": {
   "codemirror_mode": {
    "name": "ipython",
    "version": 3
   },
   "file_extension": ".py",
   "mimetype": "text/x-python",
   "name": "python",
   "nbconvert_exporter": "python",
   "pygments_lexer": "ipython3",
   "version": "3.7.5"
  }
 },
 "nbformat": 4,
 "nbformat_minor": 4
}
