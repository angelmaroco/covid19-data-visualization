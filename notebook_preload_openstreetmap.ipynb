{
 "cells": [
  {
   "cell_type": "code",
   "execution_count": null,
   "metadata": {},
   "outputs": [],
   "source": [
    "from src import tools_pandas\n",
    "from src import tools_osm\n",
    "from src import tools_str\n",
    "import pandas as pd\n",
    "\n",
    "NUM_RESULTS_PREVIEW = 3\n",
    "DEBUG_MODE = True\n",
    "PATH_DATA_STATISTICS = \"./data/input/statistics\""
   ]
  },
  {
   "cell_type": "markdown",
   "metadata": {},
   "source": [
    "---\n",
    "## Sources\n",
    "\n",
    "### Age range by population\n",
    "[Source: INE] https://www.ine.es/jaxi/Tabla.htm?path=/t20/e245/p05/a2014/l0/&file=00028001.px&L=0"
   ]
  },
  {
   "cell_type": "code",
   "execution_count": null,
   "metadata": {},
   "outputs": [],
   "source": [
    "data_population = pd.read_csv(\n",
    "    f\"{PATH_DATA_STATISTICS}/madrid_population.csv\", \n",
    "    engine=\"c\"\n",
    ")\n",
    "\n",
    "data_population.head(NUM_RESULTS_PREVIEW) if DEBUG_MODE else None"
   ]
  },
  {
   "cell_type": "markdown",
   "metadata": {},
   "source": [
    "---\n",
    "## Using OpenStreetMatp to build maps (GeoDataFrames and network map)\n"
   ]
  },
  {
   "cell_type": "markdown",
   "metadata": {},
   "source": [
    "### Building GeoDataFrames by poulation\n",
    "This operation can take some time."
   ]
  },
  {
   "cell_type": "code",
   "execution_count": null,
   "metadata": {},
   "outputs": [],
   "source": [
    "for item in tools_str.normalice_town_name(data_population[\"Poblacion\"].values.tolist()):\n",
    "    tools_osm.build_gdf(item, tools_str.normalize_name(item))"
   ]
  },
  {
   "cell_type": "markdown",
   "metadata": {},
   "source": [
    "<a href=\"./data/osm/gdf/\"><img align=\"left\" src=\"./data/static/images/gdf_sample.png\"></a>"
   ]
  },
  {
   "cell_type": "markdown",
   "metadata": {},
   "source": [
    "### Building network OpenStreetmap (nodes/relations) by population\n",
    "This operation can take some time."
   ]
  },
  {
   "cell_type": "code",
   "execution_count": null,
   "metadata": {},
   "outputs": [],
   "source": [
    "for item in tools_str.normalice_town_name(data_population[\"Poblacion\"].values.tolist()):\n",
    "    tools_osm.build_network(item, \"drive\", tools_str.normalize_name(item))"
   ]
  },
  {
   "cell_type": "markdown",
   "metadata": {},
   "source": [
    "<a href=\"./data/osm/graphml/\"><img align=\"left\" src=\"./data/static/images/nodes_relations_osm.png\"></a>"
   ]
  },
  {
   "cell_type": "code",
   "execution_count": null,
   "metadata": {},
   "outputs": [],
   "source": []
  }
 ],
 "metadata": {
  "kernelspec": {
   "display_name": "Python 3",
   "language": "python",
   "name": "python3"
  },
  "language_info": {
   "codemirror_mode": {
    "name": "ipython",
    "version": 3
   },
   "file_extension": ".py",
   "mimetype": "text/x-python",
   "name": "python",
   "nbconvert_exporter": "python",
   "pygments_lexer": "ipython3",
   "version": "3.7.5"
  }
 },
 "nbformat": 4,
 "nbformat_minor": 4
}
